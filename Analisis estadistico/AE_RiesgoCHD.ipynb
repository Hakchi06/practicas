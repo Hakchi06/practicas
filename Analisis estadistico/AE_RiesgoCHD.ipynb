{
  "nbformat": 4,
  "nbformat_minor": 0,
  "metadata": {
    "colab": {
      "provenance": [],
      "collapsed_sections": [
        "3O8EznwVIXrX",
        "IR1OB_oJIih9",
        "QXI8C-x-MvT3",
        "7el3_q0_QHLX",
        "qZphqURPQUud",
        "7TJrPhSnSmhP",
        "fPQRc-AzS-6K"
      ]
    },
    "kernelspec": {
      "name": "python3",
      "display_name": "Python 3"
    },
    "language_info": {
      "name": "python"
    }
  },
  "cells": [
    {
      "cell_type": "markdown",
      "source": [
        "# Análisis Estadístico con Regresión Logística\n",
        "\n",
        "Este es un ejemplo sencillo de análisis de la relación entre variables y la probabilidad de un evento, utilizando la regresión logística desde un enfoque estadístico.\n",
        "\n",
        "--Se analizaran las métricas estadísticas obtenidas del informe Logit Regression Result para evaluar el rendimiento del modelo y determinar la significancia o influencia de las variables.--\n",
        "\n",
        "Para este caso se ha utilizado el data set: https://www.kaggle.com/datasets/dileep070/heart-disease-prediction-using-logistic-regression/data"
      ],
      "metadata": {
        "id": "iOJgaVeYXQAf"
      }
    },
    {
      "cell_type": "markdown",
      "source": [
        "##1. Importar las librerías necesarias"
      ],
      "metadata": {
        "id": "3O8EznwVIXrX"
      }
    },
    {
      "cell_type": "code",
      "execution_count": 2,
      "metadata": {
        "id": "-LtKBBGHZFtt"
      },
      "outputs": [],
      "source": [
        "import pandas as pd\n",
        "import numpy as np\n",
        "import matplotlib.pyplot as plt\n",
        "import statsmodels.api as sm\n",
        "import seaborn as sns"
      ]
    },
    {
      "cell_type": "markdown",
      "source": [
        "## 2. Cargar los datos\n",
        "\n",
        "Los datos que se van a cargar poseen cierta particularidad comparado con los utilizados en el modelo del precio de las casas, y es que en este caso se utilizarán variables que tienen almacenados valores NaN, indicando que no se pudo obtener esos datos de la persona registrada o que no es un valor válido.\n",
        "\n",
        "Para verificar qué columnas tienen valores NaN, utilizaremos la sentencia print(df.isna().any()). Esto nos devolverá True para aquellas que posean registros con NaN."
      ],
      "metadata": {
        "id": "IR1OB_oJIih9"
      }
    },
    {
      "cell_type": "code",
      "source": [
        "df = pd.read_csv(\"./framingham.csv\")\n",
        "\n",
        "print(df.isna().any())\n",
        "print(df)"
      ],
      "metadata": {
        "colab": {
          "base_uri": "https://localhost:8080/"
        },
        "id": "bYSQogXWnmMf",
        "outputId": "4139cf4d-6248-48f7-e3cd-0da41f06fd57"
      },
      "execution_count": 21,
      "outputs": [
        {
          "output_type": "stream",
          "name": "stdout",
          "text": [
            "male               False\n",
            "age                False\n",
            "education           True\n",
            "currentSmoker      False\n",
            "cigsPerDay          True\n",
            "BPMeds              True\n",
            "prevalentStroke    False\n",
            "prevalentHyp       False\n",
            "diabetes           False\n",
            "totChol             True\n",
            "sysBP              False\n",
            "diaBP              False\n",
            "BMI                 True\n",
            "heartRate           True\n",
            "glucose             True\n",
            "TenYearCHD         False\n",
            "dtype: bool\n",
            "      male  age  education  currentSmoker  cigsPerDay  BPMeds  \\\n",
            "0        1   39        4.0              0         0.0     0.0   \n",
            "1        0   46        2.0              0         0.0     0.0   \n",
            "2        1   48        1.0              1        20.0     0.0   \n",
            "3        0   61        3.0              1        30.0     0.0   \n",
            "4        0   46        3.0              1        23.0     0.0   \n",
            "...    ...  ...        ...            ...         ...     ...   \n",
            "4233     1   50        1.0              1         1.0     0.0   \n",
            "4234     1   51        3.0              1        43.0     0.0   \n",
            "4235     0   48        2.0              1        20.0     NaN   \n",
            "4236     0   44        1.0              1        15.0     0.0   \n",
            "4237     0   52        2.0              0         0.0     0.0   \n",
            "\n",
            "      prevalentStroke  prevalentHyp  diabetes  totChol  sysBP  diaBP    BMI  \\\n",
            "0                   0             0         0    195.0  106.0   70.0  26.97   \n",
            "1                   0             0         0    250.0  121.0   81.0  28.73   \n",
            "2                   0             0         0    245.0  127.5   80.0  25.34   \n",
            "3                   0             1         0    225.0  150.0   95.0  28.58   \n",
            "4                   0             0         0    285.0  130.0   84.0  23.10   \n",
            "...               ...           ...       ...      ...    ...    ...    ...   \n",
            "4233                0             1         0    313.0  179.0   92.0  25.97   \n",
            "4234                0             0         0    207.0  126.5   80.0  19.71   \n",
            "4235                0             0         0    248.0  131.0   72.0  22.00   \n",
            "4236                0             0         0    210.0  126.5   87.0  19.16   \n",
            "4237                0             0         0    269.0  133.5   83.0  21.47   \n",
            "\n",
            "      heartRate  glucose  TenYearCHD  \n",
            "0          80.0     77.0           0  \n",
            "1          95.0     76.0           0  \n",
            "2          75.0     70.0           0  \n",
            "3          65.0    103.0           1  \n",
            "4          85.0     85.0           0  \n",
            "...         ...      ...         ...  \n",
            "4233       66.0     86.0           1  \n",
            "4234       65.0     68.0           0  \n",
            "4235       84.0     86.0           0  \n",
            "4236       86.0      NaN           0  \n",
            "4237       80.0    107.0           0  \n",
            "\n",
            "[4238 rows x 16 columns]\n"
          ]
        }
      ]
    },
    {
      "cell_type": "markdown",
      "source": [
        "## Importante\n",
        "\n",
        "Existen distintas formas de abordar el problema de valores NaN en nuestros registros, y quizá la más adecuada sea hallar el por qué no se pudieron obtener.\n",
        "\n",
        "Sin embargo, esto sería un tema a tratar en otro caso o ejemplo. Para mantener este análisis a un nivel sencillo, se ha optado por eliminar los registros con valores NaN. Esta decisión puede llegar a ser útil si la presencia de este valor es poco frecuente, de otro modo se podrían introducir sesgos al eliminar datos de un grupo en específico.\n",
        "\n",
        "--Cabe mencionar que, si se procede sin solucionar los valores NaN, habrá un error indicando que se encontraron valores inf o NaN.--\n"
      ],
      "metadata": {
        "id": "QXI8C-x-MvT3"
      }
    },
    {
      "cell_type": "code",
      "source": [
        "df = df.dropna()\n",
        "print(df)"
      ],
      "metadata": {
        "colab": {
          "base_uri": "https://localhost:8080/"
        },
        "id": "tfj6c6TVoSjX",
        "outputId": "8ea39044-5261-4aa4-8978-47cd52809576"
      },
      "execution_count": 22,
      "outputs": [
        {
          "output_type": "stream",
          "name": "stdout",
          "text": [
            "      male  age  education  currentSmoker  cigsPerDay  BPMeds  \\\n",
            "0        1   39        4.0              0         0.0     0.0   \n",
            "1        0   46        2.0              0         0.0     0.0   \n",
            "2        1   48        1.0              1        20.0     0.0   \n",
            "3        0   61        3.0              1        30.0     0.0   \n",
            "4        0   46        3.0              1        23.0     0.0   \n",
            "...    ...  ...        ...            ...         ...     ...   \n",
            "4231     1   58        3.0              0         0.0     0.0   \n",
            "4232     1   68        1.0              0         0.0     0.0   \n",
            "4233     1   50        1.0              1         1.0     0.0   \n",
            "4234     1   51        3.0              1        43.0     0.0   \n",
            "4237     0   52        2.0              0         0.0     0.0   \n",
            "\n",
            "      prevalentStroke  prevalentHyp  diabetes  totChol  sysBP  diaBP    BMI  \\\n",
            "0                   0             0         0    195.0  106.0   70.0  26.97   \n",
            "1                   0             0         0    250.0  121.0   81.0  28.73   \n",
            "2                   0             0         0    245.0  127.5   80.0  25.34   \n",
            "3                   0             1         0    225.0  150.0   95.0  28.58   \n",
            "4                   0             0         0    285.0  130.0   84.0  23.10   \n",
            "...               ...           ...       ...      ...    ...    ...    ...   \n",
            "4231                0             1         0    187.0  141.0   81.0  24.96   \n",
            "4232                0             1         0    176.0  168.0   97.0  23.14   \n",
            "4233                0             1         0    313.0  179.0   92.0  25.97   \n",
            "4234                0             0         0    207.0  126.5   80.0  19.71   \n",
            "4237                0             0         0    269.0  133.5   83.0  21.47   \n",
            "\n",
            "      heartRate  glucose  TenYearCHD  \n",
            "0          80.0     77.0           0  \n",
            "1          95.0     76.0           0  \n",
            "2          75.0     70.0           0  \n",
            "3          65.0    103.0           1  \n",
            "4          85.0     85.0           0  \n",
            "...         ...      ...         ...  \n",
            "4231       80.0     81.0           0  \n",
            "4232       60.0     79.0           1  \n",
            "4233       66.0     86.0           1  \n",
            "4234       65.0     68.0           0  \n",
            "4237       80.0    107.0           0  \n",
            "\n",
            "[3656 rows x 16 columns]\n"
          ]
        }
      ]
    },
    {
      "cell_type": "markdown",
      "source": [
        "## 2. Desarrollo del modelo de regresión logística"
      ],
      "metadata": {
        "id": "7el3_q0_QHLX"
      }
    },
    {
      "cell_type": "code",
      "source": [
        "X = df[['male', 'age', 'education', 'currentSmoker', 'cigsPerDay', 'BPMeds',\n",
        "       'prevalentStroke', 'prevalentHyp', 'diabetes', 'totChol', 'sysBP',\n",
        "       'diaBP', 'BMI', 'heartRate', 'glucose']]\n",
        "X = sm.add_constant(X)\n",
        "\n",
        "y = df['TenYearCHD']\n",
        "\n",
        "modelo = sm.Logit(y, X).fit()\n",
        "print(modelo.summary())"
      ],
      "metadata": {
        "colab": {
          "base_uri": "https://localhost:8080/"
        },
        "id": "NSw-CUT3otDX",
        "outputId": "5592d27c-0467-4357-e8a9-3121d0109c1b"
      },
      "execution_count": 23,
      "outputs": [
        {
          "output_type": "stream",
          "name": "stdout",
          "text": [
            "Optimization terminated successfully.\n",
            "         Current function value: 0.376668\n",
            "         Iterations 7\n",
            "                           Logit Regression Results                           \n",
            "==============================================================================\n",
            "Dep. Variable:             TenYearCHD   No. Observations:                 3656\n",
            "Model:                          Logit   Df Residuals:                     3640\n",
            "Method:                           MLE   Df Model:                           15\n",
            "Date:                Thu, 10 Jul 2025   Pseudo R-squ.:                  0.1174\n",
            "Time:                        07:32:46   Log-Likelihood:                -1377.1\n",
            "converged:                       True   LL-Null:                       -1560.3\n",
            "Covariance Type:            nonrobust   LLR p-value:                 8.027e-69\n",
            "===================================================================================\n",
            "                      coef    std err          z      P>|z|      [0.025      0.975]\n",
            "-----------------------------------------------------------------------------------\n",
            "const              -8.3222      0.715    -11.632      0.000      -9.725      -6.920\n",
            "male                0.5551      0.109      5.090      0.000       0.341       0.769\n",
            "age                 0.0635      0.007      9.499      0.000       0.050       0.077\n",
            "education          -0.0475      0.049     -0.962      0.336      -0.144       0.049\n",
            "currentSmoker       0.0709      0.157      0.452      0.651      -0.236       0.378\n",
            "cigsPerDay          0.0179      0.006      2.874      0.004       0.006       0.030\n",
            "BPMeds              0.1623      0.234      0.692      0.489      -0.297       0.621\n",
            "prevalentStroke     0.6935      0.490      1.417      0.157      -0.266       1.653\n",
            "prevalentHyp        0.2346      0.138      1.700      0.089      -0.036       0.505\n",
            "diabetes            0.0395      0.315      0.125      0.900      -0.579       0.658\n",
            "totChol             0.0023      0.001      2.062      0.039       0.000       0.005\n",
            "sysBP               0.0154      0.004      4.043      0.000       0.008       0.023\n",
            "diaBP              -0.0041      0.006     -0.642      0.521      -0.017       0.008\n",
            "BMI                 0.0066      0.013      0.518      0.605      -0.018       0.032\n",
            "heartRate          -0.0032      0.004     -0.772      0.440      -0.012       0.005\n",
            "glucose             0.0071      0.002      3.189      0.001       0.003       0.012\n",
            "===================================================================================\n"
          ]
        }
      ]
    },
    {
      "cell_type": "markdown",
      "source": [
        "## 3. Resultados obtenidos\n",
        "\n",
        "Las métricas obtenidas son distintas a las que se presentan en un informe OLS, pero comparten ciertas métricas que pueden ayudarnos a comprobar rápidamente la precisión del modelo:\n",
        "\n",
        "\n",
        "\n",
        "*   Pseudo R-squ nos indica una medida de que tan mejor es nuestro modelo frente a un modelo nulo. Comparado con la regresión lineal, el valor R aquí se evalúa de otra forma, pero sigue el mismo concepto: entre más cerca de 1, mejor. Sin embargo, en regresión logística este valor suele ser más bajo y aun así describir bien los datos.\n",
        "\n",
        "*   Las variables: education, currentSmoker, BPMeds, PrevalentStroke, PrevalentHyp, diabetes, diaBP, BMI y heartRate no son significativas para nuestro modelo según el P-value.\n"
      ],
      "metadata": {
        "id": "qZphqURPQUud"
      }
    },
    {
      "cell_type": "code",
      "source": [
        "X = df[['male', 'age', 'cigsPerDay', 'totChol', 'sysBP',  'glucose']]\n",
        "\n",
        "X = sm.add_constant(X)\n",
        "\n",
        "y = df['TenYearCHD']\n",
        "\n",
        "modelo = sm.Logit(y, X).fit()\n",
        "print(modelo.summary())"
      ],
      "metadata": {
        "colab": {
          "base_uri": "https://localhost:8080/"
        },
        "id": "ZJcydLCd2B7r",
        "outputId": "a93fe40c-1fe9-46a9-aa59-9fb1d2459d4b"
      },
      "execution_count": 6,
      "outputs": [
        {
          "output_type": "stream",
          "name": "stdout",
          "text": [
            "Optimization terminated successfully.\n",
            "         Current function value: 0.377800\n",
            "         Iterations 7\n",
            "                           Logit Regression Results                           \n",
            "==============================================================================\n",
            "Dep. Variable:             TenYearCHD   No. Observations:                 3656\n",
            "Model:                          Logit   Df Residuals:                     3649\n",
            "Method:                           MLE   Df Model:                            6\n",
            "Date:                Thu, 10 Jul 2025   Pseudo R-squ.:                  0.1147\n",
            "Time:                        06:53:57   Log-Likelihood:                -1381.2\n",
            "converged:                       True   LL-Null:                       -1560.3\n",
            "Covariance Type:            nonrobust   LLR p-value:                 2.885e-74\n",
            "==============================================================================\n",
            "                 coef    std err          z      P>|z|      [0.025      0.975]\n",
            "------------------------------------------------------------------------------\n",
            "const         -9.1298      0.476    -19.199      0.000     -10.062      -8.198\n",
            "male           0.5614      0.107      5.255      0.000       0.352       0.771\n",
            "age            0.0659      0.006     10.254      0.000       0.053       0.078\n",
            "cigsPerDay     0.0192      0.004      4.604      0.000       0.011       0.027\n",
            "totChol        0.0023      0.001      2.024      0.043    7.16e-05       0.004\n",
            "sysBP          0.0175      0.002      8.159      0.000       0.013       0.022\n",
            "glucose        0.0073      0.002      4.342      0.000       0.004       0.011\n",
            "==============================================================================\n"
          ]
        }
      ]
    },
    {
      "cell_type": "markdown",
      "source": [
        "## 4. Prueba del modelo"
      ],
      "metadata": {
        "id": "7TJrPhSnSmhP"
      }
    },
    {
      "cell_type": "code",
      "source": [
        "nuevo_paciente = pd.DataFrame({\n",
        "    'male': [1],\n",
        "    'age': [60],\n",
        "    'cigsPerDay': [30],\n",
        "    'totChol': [303],       # 1 = hombre, 0 = mujer\n",
        "    'sysBP': [187],\n",
        "    'glucose': [104]\n",
        "})\n",
        "\n",
        "nuevo_paciente = sm.add_constant(nuevo_paciente, has_constant='add')\n",
        "\n",
        "probabilidad = modelo.predict(nuevo_paciente)\n",
        "\n",
        "print(f\"Probabilidad estimada: {probabilidad[0]:.4f}\")"
      ],
      "metadata": {
        "colab": {
          "base_uri": "https://localhost:8080/"
        },
        "id": "CbM8NqJfFrXi",
        "outputId": "70375447-42ae-4da3-8daa-626356185922"
      },
      "execution_count": 7,
      "outputs": [
        {
          "output_type": "stream",
          "name": "stdout",
          "text": [
            "Probabilidad estimada: 0.6652\n"
          ]
        }
      ]
    },
    {
      "cell_type": "markdown",
      "source": [
        "En este caso el resultado nos indica que la persona con los datos ingresados tiene un %66.52 de probabilidades de tener un CHD."
      ],
      "metadata": {
        "id": "V_AOEyOvSvJY"
      }
    },
    {
      "cell_type": "markdown",
      "source": [
        "## 5. Análisis de los coeficientes\n",
        "\n",
        "Los coeficientes obtenidos para cada variable aportan información valiosa, ya que nos indican en % la influencia que tienen. Para obtener este porcentaje, es necesario utilizar la función exponencial."
      ],
      "metadata": {
        "id": "fPQRc-AzS-6K"
      }
    },
    {
      "cell_type": "code",
      "source": [
        "print(np.exp(modelo.params))"
      ],
      "metadata": {
        "colab": {
          "base_uri": "https://localhost:8080/"
        },
        "id": "m-dbWTGxYb6I",
        "outputId": "b4cb0602-bcba-4048-b65a-a4fd1b3a99f2"
      },
      "execution_count": 8,
      "outputs": [
        {
          "output_type": "stream",
          "name": "stdout",
          "text": [
            "const         0.000108\n",
            "male          1.753206\n",
            "age           1.068116\n",
            "cigsPerDay    1.019412\n",
            "totChol       1.002275\n",
            "sysBP         1.017689\n",
            "glucose       1.007307\n",
            "dtype: float64\n"
          ]
        }
      ]
    },
    {
      "cell_type": "markdown",
      "source": [
        "Basado en la informacion obtenida, podemos observar que para el genero masculino las probabilidades de tener CHD en 10 años aumentan en un 75.3%.\n",
        "\n",
        "Las demás variables tienen un aumento en la probabilidad muy bajo, desde el %0.7 al %6.8"
      ],
      "metadata": {
        "id": "T1FadDmTUHFd"
      }
    }
  ]
}